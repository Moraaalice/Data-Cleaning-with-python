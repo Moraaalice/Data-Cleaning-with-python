{
 "cells": [
  {
   "cell_type": "code",
   "execution_count": 1,
   "id": "16267595-a1b4-41af-abe7-aeba085a2150",
   "metadata": {},
   "outputs": [],
   "source": [
    "import pandas as pd\n",
    "import numpy as np"
   ]
  },
  {
   "cell_type": "markdown",
   "id": "a40f6ed6-2ef7-41ba-996f-10a944020d78",
   "metadata": {},
   "source": [
    "The dataset captures key aspects of football match events, including team performances, match logistics, and contextual details. Each row represents an individual match, with the following columns:\n",
    "1. Home_team_score: The number of goals scored by the home team during the match\n",
    "2. Home_team_name: The name of the team playing at their home venue\n",
    "3. Away_team_score: The number of goals scored by the away team during the match\n",
    "4. Away_team_name: The name of the team playing away from their home venue\n",
    "5. Attendance: The number of spectators who attended the match\n",
    "6. Referee: The name of the official referee responsible for overseeing the match\n",
    "7. Stadium: The name of the stadium where the match was played\n",
    "8. Season: The season or year in which the match took place (e.g., \"2023/24\")\n",
    "9. Date: The date on which the match occurred"
   ]
  },
  {
   "cell_type": "code",
   "execution_count": 2,
   "id": "313564e2-ff8e-4fd8-b2ea-8d814a01d67e",
   "metadata": {},
   "outputs": [],
   "source": [
    "soccer_data = pd.read_csv('soccer_data.csv')"
   ]
  },
  {
   "cell_type": "code",
   "execution_count": 3,
   "id": "ff7e7094-6ac3-4f68-aea1-8d044075eba2",
   "metadata": {},
   "outputs": [
    {
     "data": {
      "text/html": [
       "<div>\n",
       "<style scoped>\n",
       "    .dataframe tbody tr th:only-of-type {\n",
       "        vertical-align: middle;\n",
       "    }\n",
       "\n",
       "    .dataframe tbody tr th {\n",
       "        vertical-align: top;\n",
       "    }\n",
       "\n",
       "    .dataframe thead th {\n",
       "        text-align: right;\n",
       "    }\n",
       "</style>\n",
       "<table border=\"1\" class=\"dataframe\">\n",
       "  <thead>\n",
       "    <tr style=\"text-align: right;\">\n",
       "      <th></th>\n",
       "      <th>Home_team_score</th>\n",
       "      <th>Home_team_name</th>\n",
       "      <th>Away_team_score</th>\n",
       "      <th>Away_team_name</th>\n",
       "      <th>attendance</th>\n",
       "      <th>referee</th>\n",
       "      <th>stadium</th>\n",
       "      <th>Season</th>\n",
       "      <th>Date</th>\n",
       "    </tr>\n",
       "  </thead>\n",
       "  <tbody>\n",
       "    <tr>\n",
       "      <th>0</th>\n",
       "      <td>2</td>\n",
       "      <td>West Ham United</td>\n",
       "      <td>2</td>\n",
       "      <td>Arsenal</td>\n",
       "      <td>NaN</td>\n",
       "      <td>David Coote</td>\n",
       "      <td>London Stadium, London</td>\n",
       "      <td>2022/23</td>\n",
       "      <td>Sun 16 Apr 2023, 14:00 BST</td>\n",
       "    </tr>\n",
       "    <tr>\n",
       "      <th>1</th>\n",
       "      <td>2</td>\n",
       "      <td>Tottenham Hotspur</td>\n",
       "      <td>3</td>\n",
       "      <td>Bournemouth</td>\n",
       "      <td>Att: 61,369</td>\n",
       "      <td>Andy Madley</td>\n",
       "      <td>Tottenham Hotspur Stadium, London</td>\n",
       "      <td>2022/23</td>\n",
       "      <td>Sat 15 Apr 2023, 15:15 BST</td>\n",
       "    </tr>\n",
       "    <tr>\n",
       "      <th>2</th>\n",
       "      <td>0</td>\n",
       "      <td>Southampton</td>\n",
       "      <td>2</td>\n",
       "      <td>Crystal Palace</td>\n",
       "      <td>Att: 30,309</td>\n",
       "      <td>Michael Oliver</td>\n",
       "      <td>St. Mary's Stadium, Southampton</td>\n",
       "      <td>2022/23</td>\n",
       "      <td>Sat 15 Apr 2023, 15:00 BST</td>\n",
       "    </tr>\n",
       "    <tr>\n",
       "      <th>3</th>\n",
       "      <td>0</td>\n",
       "      <td>Nottingham Forest</td>\n",
       "      <td>2</td>\n",
       "      <td>Manchester United</td>\n",
       "      <td>Att: 29,435</td>\n",
       "      <td>Simon Hooper</td>\n",
       "      <td>The City Ground, Nottingham</td>\n",
       "      <td>2022/23</td>\n",
       "      <td>Sun 16 Apr 2023, 16:30 BST</td>\n",
       "    </tr>\n",
       "    <tr>\n",
       "      <th>4</th>\n",
       "      <td>3</td>\n",
       "      <td>Manchester City</td>\n",
       "      <td>1</td>\n",
       "      <td>Leicester City</td>\n",
       "      <td>Att: 53,329</td>\n",
       "      <td>Darren England</td>\n",
       "      <td>Etihad Stadium, Manchester</td>\n",
       "      <td>2022/23</td>\n",
       "      <td>Sat 15 Apr 2023, 17:30 BST</td>\n",
       "    </tr>\n",
       "    <tr>\n",
       "      <th>5</th>\n",
       "      <td>1</td>\n",
       "      <td>Everton</td>\n",
       "      <td>3</td>\n",
       "      <td>Fulham</td>\n",
       "      <td>NaN</td>\n",
       "      <td>Anthony Taylor</td>\n",
       "      <td>Goodison Park, Liverpool</td>\n",
       "      <td>2022/23</td>\n",
       "      <td>Sat 15 Apr 2023, 15:00 BST</td>\n",
       "    </tr>\n",
       "    <tr>\n",
       "      <th>6</th>\n",
       "      <td>1</td>\n",
       "      <td>Chelsea</td>\n",
       "      <td>2</td>\n",
       "      <td>Brighton &amp; Hove Albion</td>\n",
       "      <td>Att: 40,126</td>\n",
       "      <td>Robert Jones</td>\n",
       "      <td>Stamford Bridge, London</td>\n",
       "      <td>2022/23</td>\n",
       "      <td>Sat 15 Apr 2023, 15:00 BST</td>\n",
       "    </tr>\n",
       "    <tr>\n",
       "      <th>7</th>\n",
       "      <td>3</td>\n",
       "      <td>Aston Villa</td>\n",
       "      <td>0</td>\n",
       "      <td>Newcastle United</td>\n",
       "      <td>Att: 42,055</td>\n",
       "      <td>John Brooks</td>\n",
       "      <td>Villa Park, Birmingham</td>\n",
       "      <td>2022/23</td>\n",
       "      <td>Sat 15 Apr 2023, 12:30 BST</td>\n",
       "    </tr>\n",
       "    <tr>\n",
       "      <th>8</th>\n",
       "      <td>1</td>\n",
       "      <td>Wolverhampton Wanderers</td>\n",
       "      <td>0</td>\n",
       "      <td>Chelsea</td>\n",
       "      <td>Att: 31,614</td>\n",
       "      <td>Peter Bankes</td>\n",
       "      <td>Molineux Stadium, Wolverhampton</td>\n",
       "      <td>2022/23</td>\n",
       "      <td>Sat 8 Apr 2023, 15:00 BST</td>\n",
       "    </tr>\n",
       "    <tr>\n",
       "      <th>9</th>\n",
       "      <td>2</td>\n",
       "      <td>Tottenham Hotspur</td>\n",
       "      <td>1</td>\n",
       "      <td>Brighton &amp; Hove Albion</td>\n",
       "      <td>Att: 61,405</td>\n",
       "      <td>Stuart Attwell</td>\n",
       "      <td>Tottenham Hotspur Stadium, London</td>\n",
       "      <td>2022/23</td>\n",
       "      <td>Sat 8 Apr 2023, 15:00 BST</td>\n",
       "    </tr>\n",
       "  </tbody>\n",
       "</table>\n",
       "</div>"
      ],
      "text/plain": [
       "  Home_team_score           Home_team_name Away_team_score  \\\n",
       "0               2          West Ham United               2   \n",
       "1               2        Tottenham Hotspur               3   \n",
       "2               0              Southampton               2   \n",
       "3               0        Nottingham Forest               2   \n",
       "4               3          Manchester City               1   \n",
       "5               1                  Everton               3   \n",
       "6               1                  Chelsea               2   \n",
       "7               3              Aston Villa               0   \n",
       "8               1  Wolverhampton Wanderers               0   \n",
       "9               2        Tottenham Hotspur               1   \n",
       "\n",
       "           Away_team_name   attendance         referee  \\\n",
       "0                 Arsenal          NaN     David Coote   \n",
       "1             Bournemouth  Att: 61,369     Andy Madley   \n",
       "2          Crystal Palace  Att: 30,309  Michael Oliver   \n",
       "3       Manchester United  Att: 29,435    Simon Hooper   \n",
       "4          Leicester City  Att: 53,329  Darren England   \n",
       "5                  Fulham          NaN  Anthony Taylor   \n",
       "6  Brighton & Hove Albion  Att: 40,126    Robert Jones   \n",
       "7        Newcastle United  Att: 42,055     John Brooks   \n",
       "8                 Chelsea  Att: 31,614    Peter Bankes   \n",
       "9  Brighton & Hove Albion  Att: 61,405  Stuart Attwell   \n",
       "\n",
       "                             stadium   Season                        Date  \n",
       "0             London Stadium, London  2022/23  Sun 16 Apr 2023, 14:00 BST  \n",
       "1  Tottenham Hotspur Stadium, London  2022/23  Sat 15 Apr 2023, 15:15 BST  \n",
       "2    St. Mary's Stadium, Southampton  2022/23  Sat 15 Apr 2023, 15:00 BST  \n",
       "3        The City Ground, Nottingham  2022/23  Sun 16 Apr 2023, 16:30 BST  \n",
       "4         Etihad Stadium, Manchester  2022/23  Sat 15 Apr 2023, 17:30 BST  \n",
       "5           Goodison Park, Liverpool  2022/23  Sat 15 Apr 2023, 15:00 BST  \n",
       "6            Stamford Bridge, London  2022/23  Sat 15 Apr 2023, 15:00 BST  \n",
       "7             Villa Park, Birmingham  2022/23  Sat 15 Apr 2023, 12:30 BST  \n",
       "8    Molineux Stadium, Wolverhampton  2022/23   Sat 8 Apr 2023, 15:00 BST  \n",
       "9  Tottenham Hotspur Stadium, London  2022/23   Sat 8 Apr 2023, 15:00 BST  "
      ]
     },
     "execution_count": 3,
     "metadata": {},
     "output_type": "execute_result"
    }
   ],
   "source": [
    "soccer_data.head(10)"
   ]
  },
  {
   "cell_type": "code",
   "execution_count": 4,
   "id": "2c543ad1-66bc-43dd-827f-8c3d77c468ca",
   "metadata": {},
   "outputs": [
    {
     "name": "stdout",
     "output_type": "stream",
     "text": [
      "<class 'pandas.core.frame.DataFrame'>\n",
      "RangeIndex: 33230 entries, 0 to 33229\n",
      "Data columns (total 9 columns):\n",
      " #   Column           Non-Null Count  Dtype \n",
      "---  ------           --------------  ----- \n",
      " 0   Home_team_score  33230 non-null  object\n",
      " 1   Home_team_name   33230 non-null  object\n",
      " 2   Away_team_score  33230 non-null  object\n",
      " 3   Away_team_name   33230 non-null  object\n",
      " 4   attendance       9939 non-null   object\n",
      " 5   referee          15284 non-null  object\n",
      " 6   stadium          33230 non-null  object\n",
      " 7   Season           33230 non-null  object\n",
      " 8   Date             33230 non-null  object\n",
      "dtypes: object(9)\n",
      "memory usage: 2.3+ MB\n"
     ]
    }
   ],
   "source": [
    "soccer_data.info()"
   ]
  },
  {
   "cell_type": "code",
   "execution_count": 5,
   "id": "139ea94c-e6fd-4c2f-be04-c0943b4c232c",
   "metadata": {},
   "outputs": [],
   "source": [
    "soccer_data.rename(columns={'Home_team_score':'home_team_score',\n",
    "                    'Home_team_name':'home_team_name',\n",
    "                    'Away_team_score':'away_team_score',\n",
    "                    'Away_team_name':'away_team_name',\n",
    "                    'Season':'season',\n",
    "                    'Date':'date'}, inplace=True)"
   ]
  },
  {
   "cell_type": "code",
   "execution_count": 6,
   "id": "75142869-0d10-43b4-93b2-0d355e600770",
   "metadata": {},
   "outputs": [
    {
     "data": {
      "text/html": [
       "<div>\n",
       "<style scoped>\n",
       "    .dataframe tbody tr th:only-of-type {\n",
       "        vertical-align: middle;\n",
       "    }\n",
       "\n",
       "    .dataframe tbody tr th {\n",
       "        vertical-align: top;\n",
       "    }\n",
       "\n",
       "    .dataframe thead th {\n",
       "        text-align: right;\n",
       "    }\n",
       "</style>\n",
       "<table border=\"1\" class=\"dataframe\">\n",
       "  <thead>\n",
       "    <tr style=\"text-align: right;\">\n",
       "      <th></th>\n",
       "      <th>home_team_score</th>\n",
       "      <th>home_team_name</th>\n",
       "      <th>away_team_score</th>\n",
       "      <th>away_team_name</th>\n",
       "      <th>attendance</th>\n",
       "      <th>referee</th>\n",
       "      <th>stadium</th>\n",
       "      <th>season</th>\n",
       "      <th>date</th>\n",
       "    </tr>\n",
       "  </thead>\n",
       "  <tbody>\n",
       "    <tr>\n",
       "      <th>0</th>\n",
       "      <td>2</td>\n",
       "      <td>West Ham United</td>\n",
       "      <td>2</td>\n",
       "      <td>Arsenal</td>\n",
       "      <td>NaN</td>\n",
       "      <td>David Coote</td>\n",
       "      <td>London Stadium, London</td>\n",
       "      <td>2022/23</td>\n",
       "      <td>Sun 16 Apr 2023, 14:00 BST</td>\n",
       "    </tr>\n",
       "    <tr>\n",
       "      <th>1</th>\n",
       "      <td>2</td>\n",
       "      <td>Tottenham Hotspur</td>\n",
       "      <td>3</td>\n",
       "      <td>Bournemouth</td>\n",
       "      <td>Att: 61,369</td>\n",
       "      <td>Andy Madley</td>\n",
       "      <td>Tottenham Hotspur Stadium, London</td>\n",
       "      <td>2022/23</td>\n",
       "      <td>Sat 15 Apr 2023, 15:15 BST</td>\n",
       "    </tr>\n",
       "    <tr>\n",
       "      <th>2</th>\n",
       "      <td>0</td>\n",
       "      <td>Southampton</td>\n",
       "      <td>2</td>\n",
       "      <td>Crystal Palace</td>\n",
       "      <td>Att: 30,309</td>\n",
       "      <td>Michael Oliver</td>\n",
       "      <td>St. Mary's Stadium, Southampton</td>\n",
       "      <td>2022/23</td>\n",
       "      <td>Sat 15 Apr 2023, 15:00 BST</td>\n",
       "    </tr>\n",
       "    <tr>\n",
       "      <th>3</th>\n",
       "      <td>0</td>\n",
       "      <td>Nottingham Forest</td>\n",
       "      <td>2</td>\n",
       "      <td>Manchester United</td>\n",
       "      <td>Att: 29,435</td>\n",
       "      <td>Simon Hooper</td>\n",
       "      <td>The City Ground, Nottingham</td>\n",
       "      <td>2022/23</td>\n",
       "      <td>Sun 16 Apr 2023, 16:30 BST</td>\n",
       "    </tr>\n",
       "    <tr>\n",
       "      <th>4</th>\n",
       "      <td>3</td>\n",
       "      <td>Manchester City</td>\n",
       "      <td>1</td>\n",
       "      <td>Leicester City</td>\n",
       "      <td>Att: 53,329</td>\n",
       "      <td>Darren England</td>\n",
       "      <td>Etihad Stadium, Manchester</td>\n",
       "      <td>2022/23</td>\n",
       "      <td>Sat 15 Apr 2023, 17:30 BST</td>\n",
       "    </tr>\n",
       "  </tbody>\n",
       "</table>\n",
       "</div>"
      ],
      "text/plain": [
       "  home_team_score     home_team_name away_team_score     away_team_name  \\\n",
       "0               2    West Ham United               2            Arsenal   \n",
       "1               2  Tottenham Hotspur               3        Bournemouth   \n",
       "2               0        Southampton               2     Crystal Palace   \n",
       "3               0  Nottingham Forest               2  Manchester United   \n",
       "4               3    Manchester City               1     Leicester City   \n",
       "\n",
       "    attendance         referee                            stadium   season  \\\n",
       "0          NaN     David Coote             London Stadium, London  2022/23   \n",
       "1  Att: 61,369     Andy Madley  Tottenham Hotspur Stadium, London  2022/23   \n",
       "2  Att: 30,309  Michael Oliver    St. Mary's Stadium, Southampton  2022/23   \n",
       "3  Att: 29,435    Simon Hooper        The City Ground, Nottingham  2022/23   \n",
       "4  Att: 53,329  Darren England         Etihad Stadium, Manchester  2022/23   \n",
       "\n",
       "                         date  \n",
       "0  Sun 16 Apr 2023, 14:00 BST  \n",
       "1  Sat 15 Apr 2023, 15:15 BST  \n",
       "2  Sat 15 Apr 2023, 15:00 BST  \n",
       "3  Sun 16 Apr 2023, 16:30 BST  \n",
       "4  Sat 15 Apr 2023, 17:30 BST  "
      ]
     },
     "execution_count": 6,
     "metadata": {},
     "output_type": "execute_result"
    }
   ],
   "source": [
    "soccer_data.head()"
   ]
  },
  {
   "cell_type": "code",
   "execution_count": 7,
   "id": "8350555e-44a6-4394-8584-60d6c1365469",
   "metadata": {},
   "outputs": [
    {
     "data": {
      "text/plain": [
       "0        False\n",
       "1        False\n",
       "2        False\n",
       "3        False\n",
       "4        False\n",
       "         ...  \n",
       "33225    False\n",
       "33226    False\n",
       "33227    False\n",
       "33228    False\n",
       "33229    False\n",
       "Name: home_team_score, Length: 33230, dtype: bool"
      ]
     },
     "execution_count": 7,
     "metadata": {},
     "output_type": "execute_result"
    }
   ],
   "source": [
    "data = pd.isnull(soccer_data[\"home_team_score\"])\n",
    "data"
   ]
  },
  {
   "cell_type": "code",
   "execution_count": 8,
   "id": "004e4ba1-fe86-403f-a7c1-152295c5b79b",
   "metadata": {},
   "outputs": [
    {
     "data": {
      "text/plain": [
       "0        False\n",
       "1        False\n",
       "2        False\n",
       "3        False\n",
       "4        False\n",
       "         ...  \n",
       "33225    False\n",
       "33226    False\n",
       "33227    False\n",
       "33228    False\n",
       "33229    False\n",
       "Name: home_team_name, Length: 33230, dtype: bool"
      ]
     },
     "execution_count": 8,
     "metadata": {},
     "output_type": "execute_result"
    }
   ],
   "source": [
    "data = pd.isnull(soccer_data[\"home_team_name\"])\n",
    "data"
   ]
  },
  {
   "cell_type": "code",
   "execution_count": 9,
   "id": "1e2c0a1f-04b4-47f6-8908-8a33188fbda9",
   "metadata": {},
   "outputs": [
    {
     "data": {
      "text/plain": [
       "0        False\n",
       "1        False\n",
       "2        False\n",
       "3        False\n",
       "4        False\n",
       "         ...  \n",
       "33225    False\n",
       "33226    False\n",
       "33227    False\n",
       "33228    False\n",
       "33229    False\n",
       "Name: away_team_score, Length: 33230, dtype: bool"
      ]
     },
     "execution_count": 9,
     "metadata": {},
     "output_type": "execute_result"
    }
   ],
   "source": [
    "data = pd.isnull(soccer_data[\"away_team_score\"])\n",
    "data"
   ]
  },
  {
   "cell_type": "code",
   "execution_count": 10,
   "id": "c383f998-58db-4fbb-938e-1ccb6791eb97",
   "metadata": {},
   "outputs": [
    {
     "data": {
      "text/plain": [
       "0        False\n",
       "1        False\n",
       "2        False\n",
       "3        False\n",
       "4        False\n",
       "         ...  \n",
       "33225    False\n",
       "33226    False\n",
       "33227    False\n",
       "33228    False\n",
       "33229    False\n",
       "Name: away_team_name, Length: 33230, dtype: bool"
      ]
     },
     "execution_count": 10,
     "metadata": {},
     "output_type": "execute_result"
    }
   ],
   "source": [
    "data = pd.isnull(soccer_data[\"away_team_name\"])\n",
    "data"
   ]
  },
  {
   "cell_type": "code",
   "execution_count": 11,
   "id": "b72e70c0-59ef-41b1-9b0f-e737e5036deb",
   "metadata": {},
   "outputs": [
    {
     "name": "stdout",
     "output_type": "stream",
     "text": [
      "Mode value: Att: 2,000\n",
      "Number of missing values after filling: 0\n"
     ]
    },
    {
     "name": "stderr",
     "output_type": "stream",
     "text": [
      "/tmp/ipykernel_17328/2708710475.py:6: FutureWarning: A value is trying to be set on a copy of a DataFrame or Series through chained assignment using an inplace method.\n",
      "The behavior will change in pandas 3.0. This inplace method will never work because the intermediate object on which we are setting values always behaves as a copy.\n",
      "\n",
      "For example, when doing 'df[col].method(value, inplace=True)', try using 'df.method({col: value}, inplace=True)' or df[col] = df[col].method(value) instead, to perform the operation inplace on the original object.\n",
      "\n",
      "\n",
      "  soccer_data[\"attendance\"].fillna(mode_value, inplace=True)\n"
     ]
    }
   ],
   "source": [
    "# Check the mode of the 'attendance' column\n",
    "mode_value = soccer_data[\"attendance\"].mode()[0]\n",
    "print(\"Mode value:\", mode_value)\n",
    "\n",
    "# Fill missing values with the mode\n",
    "soccer_data[\"attendance\"].fillna(mode_value, inplace=True)\n",
    "\n",
    "# Verify if null values have been filled\n",
    "print(\"Number of missing values after filling:\", soccer_data[\"attendance\"].isnull().sum())"
   ]
  },
  {
   "cell_type": "code",
   "execution_count": 12,
   "id": "1519a8dd-c94f-425f-bc0e-d61110f07e37",
   "metadata": {},
   "outputs": [
    {
     "data": {
      "text/plain": [
       "0        False\n",
       "1        False\n",
       "2        False\n",
       "3        False\n",
       "4        False\n",
       "         ...  \n",
       "33225    False\n",
       "33226    False\n",
       "33227    False\n",
       "33228    False\n",
       "33229    False\n",
       "Name: referee, Length: 33230, dtype: bool"
      ]
     },
     "execution_count": 12,
     "metadata": {},
     "output_type": "execute_result"
    }
   ],
   "source": [
    "data = pd.isnull(soccer_data[\"referee\"])\n",
    "data"
   ]
  },
  {
   "cell_type": "code",
   "execution_count": 13,
   "id": "602bc464-e6a7-46ee-ac22-2a4dc696702f",
   "metadata": {},
   "outputs": [
    {
     "data": {
      "text/plain": [
       "0        False\n",
       "1        False\n",
       "2        False\n",
       "3        False\n",
       "4        False\n",
       "         ...  \n",
       "33225    False\n",
       "33226    False\n",
       "33227    False\n",
       "33228    False\n",
       "33229    False\n",
       "Name: stadium, Length: 33230, dtype: bool"
      ]
     },
     "execution_count": 13,
     "metadata": {},
     "output_type": "execute_result"
    }
   ],
   "source": [
    "data = pd.isnull(soccer_data[\"stadium\"])\n",
    "data"
   ]
  },
  {
   "cell_type": "code",
   "execution_count": 14,
   "id": "2d23a50c-e9a2-46d1-8913-9de15ebbe8df",
   "metadata": {},
   "outputs": [
    {
     "data": {
      "text/plain": [
       "0        False\n",
       "1        False\n",
       "2        False\n",
       "3        False\n",
       "4        False\n",
       "         ...  \n",
       "33225    False\n",
       "33226    False\n",
       "33227    False\n",
       "33228    False\n",
       "33229    False\n",
       "Name: season, Length: 33230, dtype: bool"
      ]
     },
     "execution_count": 14,
     "metadata": {},
     "output_type": "execute_result"
    }
   ],
   "source": [
    "data = pd.isnull(soccer_data[\"season\"])\n",
    "data"
   ]
  },
  {
   "cell_type": "code",
   "execution_count": 15,
   "id": "ac8644ca-498d-4ef3-82ae-7766274b8ed5",
   "metadata": {},
   "outputs": [
    {
     "data": {
      "text/plain": [
       "0        False\n",
       "1        False\n",
       "2        False\n",
       "3        False\n",
       "4        False\n",
       "         ...  \n",
       "33225    False\n",
       "33226    False\n",
       "33227    False\n",
       "33228    False\n",
       "33229    False\n",
       "Name: date, Length: 33230, dtype: bool"
      ]
     },
     "execution_count": 15,
     "metadata": {},
     "output_type": "execute_result"
    }
   ],
   "source": [
    "data = pd.isnull(soccer_data[\"date\"])\n",
    "data"
   ]
  }
 ],
 "metadata": {
  "kernelspec": {
   "display_name": "Python 3 (ipykernel)",
   "language": "python",
   "name": "python3"
  },
  "language_info": {
   "codemirror_mode": {
    "name": "ipython",
    "version": 3
   },
   "file_extension": ".py",
   "mimetype": "text/x-python",
   "name": "python",
   "nbconvert_exporter": "python",
   "pygments_lexer": "ipython3",
   "version": "3.10.12"
  }
 },
 "nbformat": 4,
 "nbformat_minor": 5
}
